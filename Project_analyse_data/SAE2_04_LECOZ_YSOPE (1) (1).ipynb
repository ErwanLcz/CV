{
  "nbformat": 4,
  "nbformat_minor": 0,
  "metadata": {
    "colab": {
      "provenance": [],
      "toc_visible": true
    },
    "kernelspec": {
      "name": "python3",
      "display_name": "Python 3"
    },
    "language_info": {
      "name": "python"
    }
  },
  "cells": [
    {
      "cell_type": "markdown",
      "source": [
        "# SAé 2.04 exploitations d'une base de données"
      ],
      "metadata": {
        "id": "P0H1WfmAgZuG"
      }
    },
    {
      "cell_type": "markdown",
      "source": [
        "#Introduction\n",
        "\n",
        "Dans ce document, nous allons chercher à analyser les données concernant les étudiants et leurs stages effectués en 2ème année de DUT informatique.\n",
        "\n",
        "L'objectif est d'en faire un rapport détaillé avec des graphes pour visualiser les pistes d'amélioration potentielles concernant les stages des étudiants, et également pour améliorer les systèmes éducatifs."
      ],
      "metadata": {
        "id": "REsxPNi66C4V"
      }
    },
    {
      "cell_type": "markdown",
      "source": [
        "##Table des matières\n",
        "1. Importation des librairies et des données\n",
        "2. Nettoyage des données\n",
        "3. Création de nouvelles variables\n",
        "4. Visualisation et analyse des données\n",
        "  1. Nombre d'étudiants dans chaque domaine en stage\n",
        "  2. Appréciation\n",
        "  3. Nombre d'étudiants en stage chaque année\n",
        "  4. Temps de stage\n",
        "  5. Moyenne_Ecart-type_Variance\n",
        "  6. Moyenne en fonction du diplôme\n",
        "  7. Evolution des moyennes entre le s3 et s4\n",
        "  8. Absences et notes\n",
        "5. Tableau des données analysées"
      ],
      "metadata": {
        "id": "d3Cv29RPhAO0"
      }
    },
    {
      "cell_type": "markdown",
      "source": [
        "# Importation des librairies et des données"
      ],
      "metadata": {
        "id": "fVfFTyjzIaiV"
      }
    },
    {
      "cell_type": "code",
      "execution_count": 1,
      "metadata": {
        "id": "2x1p7lOYLv0B"
      },
      "outputs": [],
      "source": [
        "import numpy as np\n",
        "import pandas as pd\n",
        "import matplotlib.pyplot as plt"
      ]
    },
    {
      "cell_type": "code",
      "source": [
        "df = pd.read_csv('data.csv', delimiter=';')\n",
        "df.head()"
      ],
      "metadata": {
        "id": "RuiOcMM9M6bq",
        "colab": {
          "base_uri": "https://localhost:8080/",
          "height": 351
        },
        "outputId": "8f6f8c71-8e4c-416e-ce61-813ff5b02071"
      },
      "execution_count": 2,
      "outputs": [
        {
          "output_type": "error",
          "ename": "FileNotFoundError",
          "evalue": "[Errno 2] No such file or directory: 'data.csv'",
          "traceback": [
            "\u001b[0;31m---------------------------------------------------------------------------\u001b[0m",
            "\u001b[0;31mFileNotFoundError\u001b[0m                         Traceback (most recent call last)",
            "\u001b[0;32m<ipython-input-2-bcd2ec11520e>\u001b[0m in \u001b[0;36m<cell line: 1>\u001b[0;34m()\u001b[0m\n\u001b[0;32m----> 1\u001b[0;31m \u001b[0mdf\u001b[0m \u001b[0;34m=\u001b[0m \u001b[0mpd\u001b[0m\u001b[0;34m.\u001b[0m\u001b[0mread_csv\u001b[0m\u001b[0;34m(\u001b[0m\u001b[0;34m'data.csv'\u001b[0m\u001b[0;34m,\u001b[0m \u001b[0mdelimiter\u001b[0m\u001b[0;34m=\u001b[0m\u001b[0;34m';'\u001b[0m\u001b[0;34m)\u001b[0m\u001b[0;34m\u001b[0m\u001b[0;34m\u001b[0m\u001b[0m\n\u001b[0m\u001b[1;32m      2\u001b[0m \u001b[0mdf\u001b[0m\u001b[0;34m.\u001b[0m\u001b[0mhead\u001b[0m\u001b[0;34m(\u001b[0m\u001b[0;34m)\u001b[0m\u001b[0;34m\u001b[0m\u001b[0;34m\u001b[0m\u001b[0m\n",
            "\u001b[0;32m/usr/local/lib/python3.10/dist-packages/pandas/io/parsers/readers.py\u001b[0m in \u001b[0;36mread_csv\u001b[0;34m(filepath_or_buffer, sep, delimiter, header, names, index_col, usecols, dtype, engine, converters, true_values, false_values, skipinitialspace, skiprows, skipfooter, nrows, na_values, keep_default_na, na_filter, verbose, skip_blank_lines, parse_dates, infer_datetime_format, keep_date_col, date_parser, date_format, dayfirst, cache_dates, iterator, chunksize, compression, thousands, decimal, lineterminator, quotechar, quoting, doublequote, escapechar, comment, encoding, encoding_errors, dialect, on_bad_lines, delim_whitespace, low_memory, memory_map, float_precision, storage_options, dtype_backend)\u001b[0m\n\u001b[1;32m    910\u001b[0m     \u001b[0mkwds\u001b[0m\u001b[0;34m.\u001b[0m\u001b[0mupdate\u001b[0m\u001b[0;34m(\u001b[0m\u001b[0mkwds_defaults\u001b[0m\u001b[0;34m)\u001b[0m\u001b[0;34m\u001b[0m\u001b[0;34m\u001b[0m\u001b[0m\n\u001b[1;32m    911\u001b[0m \u001b[0;34m\u001b[0m\u001b[0m\n\u001b[0;32m--> 912\u001b[0;31m     \u001b[0;32mreturn\u001b[0m \u001b[0m_read\u001b[0m\u001b[0;34m(\u001b[0m\u001b[0mfilepath_or_buffer\u001b[0m\u001b[0;34m,\u001b[0m \u001b[0mkwds\u001b[0m\u001b[0;34m)\u001b[0m\u001b[0;34m\u001b[0m\u001b[0;34m\u001b[0m\u001b[0m\n\u001b[0m\u001b[1;32m    913\u001b[0m \u001b[0;34m\u001b[0m\u001b[0m\n\u001b[1;32m    914\u001b[0m \u001b[0;34m\u001b[0m\u001b[0m\n",
            "\u001b[0;32m/usr/local/lib/python3.10/dist-packages/pandas/io/parsers/readers.py\u001b[0m in \u001b[0;36m_read\u001b[0;34m(filepath_or_buffer, kwds)\u001b[0m\n\u001b[1;32m    575\u001b[0m \u001b[0;34m\u001b[0m\u001b[0m\n\u001b[1;32m    576\u001b[0m     \u001b[0;31m# Create the parser.\u001b[0m\u001b[0;34m\u001b[0m\u001b[0;34m\u001b[0m\u001b[0m\n\u001b[0;32m--> 577\u001b[0;31m     \u001b[0mparser\u001b[0m \u001b[0;34m=\u001b[0m \u001b[0mTextFileReader\u001b[0m\u001b[0;34m(\u001b[0m\u001b[0mfilepath_or_buffer\u001b[0m\u001b[0;34m,\u001b[0m \u001b[0;34m**\u001b[0m\u001b[0mkwds\u001b[0m\u001b[0;34m)\u001b[0m\u001b[0;34m\u001b[0m\u001b[0;34m\u001b[0m\u001b[0m\n\u001b[0m\u001b[1;32m    578\u001b[0m \u001b[0;34m\u001b[0m\u001b[0m\n\u001b[1;32m    579\u001b[0m     \u001b[0;32mif\u001b[0m \u001b[0mchunksize\u001b[0m \u001b[0;32mor\u001b[0m \u001b[0miterator\u001b[0m\u001b[0;34m:\u001b[0m\u001b[0;34m\u001b[0m\u001b[0;34m\u001b[0m\u001b[0m\n",
            "\u001b[0;32m/usr/local/lib/python3.10/dist-packages/pandas/io/parsers/readers.py\u001b[0m in \u001b[0;36m__init__\u001b[0;34m(self, f, engine, **kwds)\u001b[0m\n\u001b[1;32m   1405\u001b[0m \u001b[0;34m\u001b[0m\u001b[0m\n\u001b[1;32m   1406\u001b[0m         \u001b[0mself\u001b[0m\u001b[0;34m.\u001b[0m\u001b[0mhandles\u001b[0m\u001b[0;34m:\u001b[0m \u001b[0mIOHandles\u001b[0m \u001b[0;34m|\u001b[0m \u001b[0;32mNone\u001b[0m \u001b[0;34m=\u001b[0m \u001b[0;32mNone\u001b[0m\u001b[0;34m\u001b[0m\u001b[0;34m\u001b[0m\u001b[0m\n\u001b[0;32m-> 1407\u001b[0;31m         \u001b[0mself\u001b[0m\u001b[0;34m.\u001b[0m\u001b[0m_engine\u001b[0m \u001b[0;34m=\u001b[0m \u001b[0mself\u001b[0m\u001b[0;34m.\u001b[0m\u001b[0m_make_engine\u001b[0m\u001b[0;34m(\u001b[0m\u001b[0mf\u001b[0m\u001b[0;34m,\u001b[0m \u001b[0mself\u001b[0m\u001b[0;34m.\u001b[0m\u001b[0mengine\u001b[0m\u001b[0;34m)\u001b[0m\u001b[0;34m\u001b[0m\u001b[0;34m\u001b[0m\u001b[0m\n\u001b[0m\u001b[1;32m   1408\u001b[0m \u001b[0;34m\u001b[0m\u001b[0m\n\u001b[1;32m   1409\u001b[0m     \u001b[0;32mdef\u001b[0m \u001b[0mclose\u001b[0m\u001b[0;34m(\u001b[0m\u001b[0mself\u001b[0m\u001b[0;34m)\u001b[0m \u001b[0;34m->\u001b[0m \u001b[0;32mNone\u001b[0m\u001b[0;34m:\u001b[0m\u001b[0;34m\u001b[0m\u001b[0;34m\u001b[0m\u001b[0m\n",
            "\u001b[0;32m/usr/local/lib/python3.10/dist-packages/pandas/io/parsers/readers.py\u001b[0m in \u001b[0;36m_make_engine\u001b[0;34m(self, f, engine)\u001b[0m\n\u001b[1;32m   1659\u001b[0m                 \u001b[0;32mif\u001b[0m \u001b[0;34m\"b\"\u001b[0m \u001b[0;32mnot\u001b[0m \u001b[0;32min\u001b[0m \u001b[0mmode\u001b[0m\u001b[0;34m:\u001b[0m\u001b[0;34m\u001b[0m\u001b[0;34m\u001b[0m\u001b[0m\n\u001b[1;32m   1660\u001b[0m                     \u001b[0mmode\u001b[0m \u001b[0;34m+=\u001b[0m \u001b[0;34m\"b\"\u001b[0m\u001b[0;34m\u001b[0m\u001b[0;34m\u001b[0m\u001b[0m\n\u001b[0;32m-> 1661\u001b[0;31m             self.handles = get_handle(\n\u001b[0m\u001b[1;32m   1662\u001b[0m                 \u001b[0mf\u001b[0m\u001b[0;34m,\u001b[0m\u001b[0;34m\u001b[0m\u001b[0;34m\u001b[0m\u001b[0m\n\u001b[1;32m   1663\u001b[0m                 \u001b[0mmode\u001b[0m\u001b[0;34m,\u001b[0m\u001b[0;34m\u001b[0m\u001b[0;34m\u001b[0m\u001b[0m\n",
            "\u001b[0;32m/usr/local/lib/python3.10/dist-packages/pandas/io/common.py\u001b[0m in \u001b[0;36mget_handle\u001b[0;34m(path_or_buf, mode, encoding, compression, memory_map, is_text, errors, storage_options)\u001b[0m\n\u001b[1;32m    857\u001b[0m         \u001b[0;32mif\u001b[0m \u001b[0mioargs\u001b[0m\u001b[0;34m.\u001b[0m\u001b[0mencoding\u001b[0m \u001b[0;32mand\u001b[0m \u001b[0;34m\"b\"\u001b[0m \u001b[0;32mnot\u001b[0m \u001b[0;32min\u001b[0m \u001b[0mioargs\u001b[0m\u001b[0;34m.\u001b[0m\u001b[0mmode\u001b[0m\u001b[0;34m:\u001b[0m\u001b[0;34m\u001b[0m\u001b[0;34m\u001b[0m\u001b[0m\n\u001b[1;32m    858\u001b[0m             \u001b[0;31m# Encoding\u001b[0m\u001b[0;34m\u001b[0m\u001b[0;34m\u001b[0m\u001b[0m\n\u001b[0;32m--> 859\u001b[0;31m             handle = open(\n\u001b[0m\u001b[1;32m    860\u001b[0m                 \u001b[0mhandle\u001b[0m\u001b[0;34m,\u001b[0m\u001b[0;34m\u001b[0m\u001b[0;34m\u001b[0m\u001b[0m\n\u001b[1;32m    861\u001b[0m                 \u001b[0mioargs\u001b[0m\u001b[0;34m.\u001b[0m\u001b[0mmode\u001b[0m\u001b[0;34m,\u001b[0m\u001b[0;34m\u001b[0m\u001b[0;34m\u001b[0m\u001b[0m\n",
            "\u001b[0;31mFileNotFoundError\u001b[0m: [Errno 2] No such file or directory: 'data.csv'"
          ]
        }
      ]
    },
    {
      "cell_type": "markdown",
      "source": [
        "# Nettoyage des données"
      ],
      "metadata": {
        "id": "aKXogIoqIRlo"
      }
    },
    {
      "cell_type": "code",
      "source": [
        "# Filtrer les lignes où les dates de début ou de fin contiennent un tiret\n",
        "date = df[~(df['debut_stage'].str.contains('-') | df['fin_stage'].str.contains('-'))]\n",
        "\n",
        "# Convertir les colonnes de dates en objets datetime\n",
        "date['debut_stage'] = pd.to_datetime(date['debut_stage'], format='%d/%m/%Y')\n",
        "date['fin_stage'] = pd.to_datetime(date['fin_stage'], format='%d/%m/%Y')\n",
        "\n",
        "\n",
        "# Remplacer les virgules par des points dans les colonnes contenant des notes\n",
        "df['note_s3'] = df['note_s3'].str.replace(',', '.')\n",
        "df['note_s4'] = df['note_s4'].str.replace(',', '.')\n",
        "\n",
        "# Convertir tous les mots en minuscules dans la colonne description_sujet\n",
        "df['type_stage'] = df['type_stage'].str.lower()\n",
        "\n",
        "# Remplacer les occurrences de \"STI2D\" par \"STMG\" dans la colonne bac pour les analyser ensemble\n",
        "df['bac'] = df['bac'].replace('STI2D', 'Techno')\n",
        "df['bac'] = df['bac'].replace('STMG', 'Techno')\n",
        "\n",
        "# Convertir les colonnes en type numérique\n",
        "colonnes_notes_semestres = ['note_s3','note_s4']\n",
        "colonnes_notes_stages = ['rapport_fond', 'rapport_forme', 'soutenance_fond', 'soutenance_forme','soutenance_echange_jury', 'mission_methode', 'mission_travail_fourni', 'mission_comportement']\n",
        "df[colonnes_notes_stages] = df[colonnes_notes_stages].apply(pd.to_numeric, errors='coerce')\n",
        "df[colonnes_notes_semestres] = df[colonnes_notes_semestres].apply(pd.to_numeric, errors='coerce')\n",
        "df.head()"
      ],
      "metadata": {
        "id": "4oEzrSzpI8Tj"
      },
      "execution_count": null,
      "outputs": []
    },
    {
      "cell_type": "markdown",
      "source": [
        "# Création de nouvelles variables"
      ],
      "metadata": {
        "id": "-LKBfEcdKCcm"
      }
    },
    {
      "cell_type": "markdown",
      "source": [
        "Calculer la moyenne des notes de l'année"
      ],
      "metadata": {
        "id": "63o0L4SZXzDo"
      }
    },
    {
      "cell_type": "code",
      "source": [
        "df['moyenne_Notes_Semestre'] = df[colonnes_notes_semestres].mean(axis=1)"
      ],
      "metadata": {
        "id": "IsfKCNJUXi5P"
      },
      "execution_count": null,
      "outputs": []
    },
    {
      "cell_type": "markdown",
      "source": [
        "Calculer la moyenne des notes du stage"
      ],
      "metadata": {
        "id": "54xkdvltXsXW"
      }
    },
    {
      "cell_type": "code",
      "source": [
        "# Coefficients correspondants aux notes des stages\n",
        "coefficients_stages = [30, 10, 15, 7.5, 7.5, 10, 10, 10]\n",
        "\n",
        "# Calculer la moyenne pondérée des colonnes spécifiées pour les stages\n",
        "df['moyenne_Notes_Stage'] = (df[colonnes_notes_stages] * coefficients_stages).sum(axis=1) / sum(coefficients_stages)"
      ],
      "metadata": {
        "id": "A7MKGw3MKYg4"
      },
      "execution_count": null,
      "outputs": []
    },
    {
      "cell_type": "markdown",
      "source": [
        "Calculer la moyenne totale de l'élève sur l'année et les classés avec des appréciations"
      ],
      "metadata": {
        "id": "HhcUGqN7X_PR"
      }
    },
    {
      "cell_type": "code",
      "source": [
        "# Calculer la moyenne des deux autres colonnes\n",
        "df['moyenne'] = df[['moyenne_Notes_Semestre', 'moyenne_Notes_Stage']].mean(axis=1)\n",
        "\n",
        "# Définir les intervalles et les étiquettes pour chaque appréciation\n",
        "intervals = [0, 8, 12, 14, 16, 18, 20]\n",
        "labels = ['Médiocre', 'Insuffisant', 'Suffisant', 'Bien', 'Très bien', 'Excellent']\n",
        "\n",
        "# Créer une nouvelle colonne \"appréciation\" en utilisant pd.cut()\n",
        "df['appréciation'] = pd.cut(df['moyenne'], bins=intervals, labels=labels, right=False)"
      ],
      "metadata": {
        "id": "nb3eOJhvYDLi"
      },
      "execution_count": null,
      "outputs": []
    },
    {
      "cell_type": "markdown",
      "source": [
        "# Visualisation et analyse des données"
      ],
      "metadata": {
        "id": "3n4XhLAOKRte"
      }
    },
    {
      "cell_type": "markdown",
      "source": [
        "##Nombre d'éudiants dans chaque domaine en stage"
      ],
      "metadata": {
        "id": "smXq9GhA6Rbx"
      }
    },
    {
      "cell_type": "markdown",
      "source": [
        "**Description**\n",
        "\n",
        "Tout d'abord, nous allons observer le nombre d'occurrences d'élèves dans chaque domaine durant leur stage entre 2017 et 2022."
      ],
      "metadata": {
        "id": "9URiKKOKewRE"
      }
    },
    {
      "cell_type": "code",
      "source": [
        "# Compter le nombre d'occurrences de chaque mot\n",
        "word_counts = df['type_stage'].value_counts()\n",
        "\n",
        "# Afficher les résultats sous forme de diagramme à barres\n",
        "word_counts.plot(kind='bar', color='turquoise', title=\"Nombre d'éudiants dans chaque domaine en stage entre 2017 et 2022\",xlabel='Domaines',ylabel='Occurences',figsize=(12, 6))"
      ],
      "metadata": {
        "id": "UUTZO6EOfAr6",
        "collapsed": true
      },
      "execution_count": null,
      "outputs": []
    },
    {
      "cell_type": "markdown",
      "source": [
        "**Analyse :**\n",
        "\n",
        "Ce graphique nous permet d'observer que beaucoup d'étudiants effectuent leurs stages dans le domaine du développement.\n",
        "\n",
        "Cela peut-il s'expliquer par un intérêt commun pour ce domaine ou par un nombre d'offres plus important ?\n",
        "\n",
        "Pour répondre à cette question, nous avons recherché sur deux sites d'annonces d'emplois (LinkedIn et Indeed) le nombre d'annonces que nous pouvions trouver pour les deux domaines. Sur LinkedIn, les résultats sont serrés : 564 annonces pour le développement contre 511 pour un autre domaine. En revanche, sur Indeed, on observe plus de 2000 offres en développement web contre 700 en développement.\n",
        "\n",
        "Une conclusion rapide possible est donc que le développement attire plus les stagiaires de BUT Informatique malgré une forte demande en web."
      ],
      "metadata": {
        "id": "LX2iJ-3q2TWj"
      }
    },
    {
      "cell_type": "markdown",
      "source": [
        "\n",
        "\n",
        "---\n",
        "\n"
      ],
      "metadata": {
        "id": "EAk6LFNErbHX"
      }
    },
    {
      "cell_type": "markdown",
      "source": [
        "##Appréciation"
      ],
      "metadata": {
        "id": "fQtSLW35AvAm"
      }
    },
    {
      "cell_type": "markdown",
      "source": [
        "**Description**\n",
        "\n",
        "Ici, nous cherchons à observer le nombre d'élèves dans chaque mention, ces mentions ayant été créées plus haut dans le document."
      ],
      "metadata": {
        "id": "W2Ae9X19ln0E"
      }
    },
    {
      "cell_type": "code",
      "source": [
        "# Compter le nombre d'occurrences de chaque mot\n",
        "appreciationCount = df['appréciation'].value_counts()\n",
        "\n",
        "# Afficher les résultats sous forme de diagramme à barres\n",
        "appreciationCount.plot(kind='bar', color='lightgreen', title=\"Nombres d'élèves dans chaque mention\",xlabel='Mention',ylabel=\"Nombres d'élèves\",figsize=(12, 6))\n"
      ],
      "metadata": {
        "id": "D3nyEJi1lsI3"
      },
      "execution_count": null,
      "outputs": []
    },
    {
      "cell_type": "markdown",
      "source": [
        "**Analyse :**\n",
        "\n",
        "En observant le graphique ci-dessus, nous pouvons voir que de nombreux élèves se classent d'abord dans la catégorie \"bien\", qui correspond à une moyenne générale entre 14 et 16, et ensuite, nombreux sont ceux dans la catégorie \"suffisant\", qui correspond à une moyenne entre 12 et 14."
      ],
      "metadata": {
        "id": "tMh6wJxzIo35"
      }
    },
    {
      "cell_type": "markdown",
      "source": [
        "\n",
        "\n",
        "---\n",
        "\n"
      ],
      "metadata": {
        "id": "OpHwh1-kEND_"
      }
    },
    {
      "cell_type": "markdown",
      "source": [
        "##Nombre d'étudiants en stage chaque année"
      ],
      "metadata": {
        "id": "KKOw2BzqBHbu"
      }
    },
    {
      "cell_type": "markdown",
      "source": [
        "**Description**\n",
        "\n",
        "Nous allons ensuie pouvoir étudier le nombre d'étudiants en stage chaque année de 2017 à 2022."
      ],
      "metadata": {
        "id": "FBU5iMxtpovz"
      }
    },
    {
      "cell_type": "code",
      "source": [
        "# Compter le nombre d'occurrences de chaque mot\n",
        "type_stageCount = df['annee'].value_counts()\n",
        "\n",
        "# Trier les données en fonction de l'axe des abscisses (label x)\n",
        "type_stageCount_sorted = type_stageCount.sort_index()\n",
        "\n",
        "# Afficher les résultats sous forme de diagramme à barres\n",
        "type_stageCount_sorted.plot(kind='bar', color='skyblue', title=\"Nombre d'étudiants en stage chaque année de 2017 à 2022\",xlabel='Année',ylabel=\"Nombre d'étudiant en stage\",figsize=(12, 6))"
      ],
      "metadata": {
        "id": "92djqyBPqiAq"
      },
      "execution_count": null,
      "outputs": []
    },
    {
      "cell_type": "markdown",
      "source": [
        "**Analyse :**\n",
        "\n",
        "Le graphique montre une augmentation initiale suivie d'une stabilisation du nombre d'étudiants effectuant des stages, avec une légère perturbation probablement due à la pandémie. Il sera important de suivre ces tendances dans les années à venir pour une analyse plus approfondie."
      ],
      "metadata": {
        "id": "7e-aK8rAvvkp"
      }
    },
    {
      "cell_type": "markdown",
      "source": [
        "\n",
        "\n",
        "---\n",
        "\n"
      ],
      "metadata": {
        "id": "2prlPYuPzE5o"
      }
    },
    {
      "cell_type": "markdown",
      "source": [
        "##Temps de stage"
      ],
      "metadata": {
        "id": "-9Z_hR4uEQtG"
      }
    },
    {
      "cell_type": "markdown",
      "source": [
        "**Description**\n",
        "\n",
        "Ici, nous cherchons à observer le temps de stage des étudiants."
      ],
      "metadata": {
        "id": "37VjF-9sJ4cC"
      }
    },
    {
      "cell_type": "code",
      "source": [
        "# Calculer la durée de chaque stage (en jours)\n",
        "date['Durée de stage'] = (date['fin_stage'] - date['debut_stage']).dt.days\n",
        "\n",
        "# Calculer la moyenne de la durée de stage\n",
        "moyenne_stage = date['Durée de stage'].mean()\n",
        "\n",
        "# Créer un graphique de dispersion\n",
        "plt.figure(figsize=(10, 6))\n",
        "plt.scatter(date['Durée de stage'], date['Durée de stage'], color='blue', alpha=0.5)\n",
        "plt.axhline(y=moyenne_stage, color='red', linestyle='--', label='Moyenne de la durée de stage')  # Ajouter une ligne pour la moyenne\n",
        "plt.title('Durée de stage en fonction de la durée de stage')\n",
        "plt.xlabel('Durée de stage (jours)')\n",
        "plt.ylabel('Durée de stage (jours)')\n",
        "plt.grid(True)\n",
        "plt.legend()\n",
        "plt.tight_layout()\n",
        "plt.show()"
      ],
      "metadata": {
        "id": "A1B4pHRbEPL3"
      },
      "execution_count": null,
      "outputs": []
    },
    {
      "cell_type": "markdown",
      "source": [
        "**Analyse :**\n",
        "\n",
        "En observant le graphique de dispersion représentant la durée de stage, nous constatons que la majorité des points sont regroupés autour de la moyenne de la durée de stage. Cela suggère une certaine cohérence dans la durée des stages parmi les étudiants inclus dans l'ensemble de données. Bien que certains points puissent être situés aux extrémités du graphique, indiquant des durées de stage plus courtes ou plus longues, ils semblent être des cas exceptionnels par rapport à la tendance générale. Cette cohérence autour de la moyenne suggère une certaine stabilité ou régularité dans la durée des stages pour la population étudiée."
      ],
      "metadata": {
        "id": "cCRphgnHJcyT"
      }
    },
    {
      "cell_type": "markdown",
      "source": [
        "\n",
        "\n",
        "---\n",
        "\n"
      ],
      "metadata": {
        "id": "uvQI3f2cr9_I"
      }
    },
    {
      "cell_type": "markdown",
      "source": [
        "##Moyenne_Ecart-type_Variance"
      ],
      "metadata": {
        "id": "a25tB1R3A1jn"
      }
    },
    {
      "cell_type": "markdown",
      "source": [
        "**Description**\n",
        "\n",
        "Suite au dernier graphique effectué, nous allons pouvoir tirer quelques informations et les étudier, comme l'écart type des moyennes."
      ],
      "metadata": {
        "id": "bW6OtxlYsoBV"
      }
    },
    {
      "cell_type": "code",
      "source": [
        "# Calculer la moyenne des moyennes\n",
        "moyenne_moyennes = df['moyenne'].mean()\n",
        "\n",
        "# Calculer l'écart type des moyennes\n",
        "ecart_type_moyennes = df['moyenne'].std()\n",
        "\n",
        "# Calculer la variance des moyennes\n",
        "variance_moyennes = df['moyenne'].var()\n",
        "\n",
        "# Afficher les résultats\n",
        "print(\"Moyenne des moyennes :\", moyenne_moyennes)\n",
        "print(\"Écart type des moyennes :\", ecart_type_moyennes)\n",
        "print(\"Variance des moyennes :\", variance_moyennes)"
      ],
      "metadata": {
        "id": "bZ7lHKe2tCcp"
      },
      "execution_count": null,
      "outputs": []
    },
    {
      "cell_type": "markdown",
      "source": [
        "**Analyse :**\n",
        "\n",
        "À partir de ces données, voici quelques conclusions que l'on peut tirer :\n",
        "\n",
        "Moyenne des moyennes : La moyenne générale des étudiants est d'environ 14,1.\n",
        "\n",
        "Écart type des moyennes : L'écart type de 1,735 suggère que les moyennes des étudiants sont dispersées autour de la moyenne générale. Plus l'écart type est élevé, plus les notes des étudiants varient par rapport à la moyenne. Dans ce cas, une valeur de 1,735 indique une certaine dispersion, mais pas extrême.\n",
        "\n",
        "Variance des moyennes : La variance mesure la dispersion des valeurs par rapport à la moyenne. Avec une variance de 3,011, cela confirme que les moyennes des étudiants varient autour de la moyenne générale.\n",
        "\n",
        "En conclusion, les données indiquent que les étudiants ont en moyenne des résultats assez homogènes autour de 14 sur 20, avec une certaine dispersion dans les performances individuelles."
      ],
      "metadata": {
        "id": "ciyScCdK0KkL"
      }
    },
    {
      "cell_type": "markdown",
      "source": [
        "\n",
        "\n",
        "---\n",
        "\n"
      ],
      "metadata": {
        "id": "hseMIanNsmoF"
      }
    },
    {
      "cell_type": "markdown",
      "source": [
        "##Moyenne en fonction du diplôme"
      ],
      "metadata": {
        "id": "btighDm7A-ps"
      }
    },
    {
      "cell_type": "markdown",
      "source": [
        "**Description**\n",
        "\n",
        "Nous allons ici étudier plusieurs aspects : tout d'abord, la différence entre les moyennes de stage et de semestre entre les différents types de bac, puis déterminer si le type de bac d'un étudiant a un effet sur ses notes."
      ],
      "metadata": {
        "id": "zxl7VOrpU5Gv"
      }
    },
    {
      "cell_type": "code",
      "source": [
        "# Grouper les données par diplôme (bac) et calculer la moyenne de la colonne moyenne_Notes_Semestre\n",
        "moyenne_par_diplome_semestre = df.groupby('bac')['moyenne_Notes_Semestre'].mean()\n",
        "\n",
        "# Grouper les données par diplôme (bac) et calculer la moyenne de la colonne moyenne_Notes_Stage\n",
        "moyenne_par_diplome_stage = df.groupby('bac')['moyenne_Notes_Stage'].mean()\n",
        "\n",
        "# Fusionner les deux résultats dans un seul DataFrame\n",
        "moyennes = pd.concat([moyenne_par_diplome_semestre, moyenne_par_diplome_stage], axis=1)\n",
        "moyennes.columns = ['Semestre', 'Stage']\n",
        "\n",
        "# Afficher ensuite la comparaison sous forme de diagramme en bâtons\n",
        "moyennes.plot(kind='bar', color=['green', 'blue'], title='Moyenne de la note semestrielle et de stage par diplôme', ylabel='Moyenne', xlabel='Bac')\n",
        "\n",
        "# Créer une table de contingence\n",
        "contingency_table = pd.crosstab(df['bac'], df['appréciation'])\n",
        "\n",
        "# Appliquer le test du chi carré\n",
        "chi2, p, dof, expected = chi2_contingency(contingency_table)\n",
        "\n",
        "# Afficher les résultats\n",
        "print(\"Table de contingence :\")\n",
        "print(\"\\n\", contingency_table)\n",
        "print(\"\\nChi carré : \", chi2)\n",
        "print(\"\\np-value : \", p)"
      ],
      "metadata": {
        "id": "cLdwDPSnXj6y"
      },
      "execution_count": null,
      "outputs": []
    },
    {
      "cell_type": "markdown",
      "source": [
        "**Analyse :**\n",
        "\n",
        "\n",
        "Sur le graphique, nous pouvons observer que les moyennes des élèves du bac S sont toujours supérieures à celles des élèves du bac techno. On remarque également que les moyennes obtenues via les notes de stages sont supérieures à celles obtenues sur le semestre. Nous pouvons donc envisager la possibilité que les notes de stage soient plus faciles à obtenir.\n",
        "\n",
        "\n",
        "**Analyse de la p-value :**\n",
        "\n",
        "La p-value obtenue est de 0.0324. Ce qui est inférieur au seuil de signification standard de 0.05.\n",
        "\n",
        "\n",
        "**Interprétation de la p-value :**\n",
        "\n",
        "Puisque la p-value est inférieure à 0.05, nous rejetons l'hypothèse nulle d'indépendance.\n",
        "Cela signifie qu'il y a une association significative entre le type de bac et l'appréciation des moyennes des étudiants.\n",
        "\n",
        "\n",
        "**Compréhension des résultats :**\n",
        "\n",
        "Les résultats montrent qu'il existe une différence significative dans la répartition des appréciations en fonction du type de bac suivi par les étudiants.\n",
        "\n",
        "\n",
        "**Implications pratiques**\n",
        "\n",
        "\n",
        "Pour les élèves de Bac S :\n",
        "\n",
        "La majorité des élèves se trouvent dans les catégories \"Bien\" et \"Suffisant\". Il est intéressant de noter qu'un nombre important d'étudiants a des moyennes dans ces intervalles.\n",
        "\n",
        "\n",
        "Pour les élèves de Bac Techno :\n",
        "\n",
        "Bien qu'il y ait aussi une forte concentration dans les catégories \"Suffisant\" et \"Bien\", la distribution est différente de celle des élèves de Bac S-Sciences, avec un nombre relativement élevé dans la catégorie \"Insuffisant\".\n",
        "\n",
        "\n",
        "Pour les élèves de Bac étranger :\n",
        "\n",
        "Comme le nombre d'étudiants est trop faible nous ne tiendrons pas contre de cette catégorie.\n",
        "\n",
        "\n",
        "**Recommandations**\n",
        "\n",
        "\n",
        "Interventions ciblées :\n",
        "\n",
        "Pour les élèves de Bac Techno, il pourrait être bénéfique de renforcer les méthodes d'enseignement et de soutien pour aider à élever les notes moyennes.\n",
        "\n",
        "\n",
        "Suivi et support individualisé :\n",
        "\n",
        "Offrir un soutien personnalisé aux étudiants des catégories inférieures pour les aider à améliorer leurs performances.\n",
        "\n",
        "\n",
        "**Résumé :**\n",
        "\n",
        "Les résultats du test du chi carré indiquent qu'il existe une association significative entre le type de bac et les appréciations des moyennes des étudiants. Les différences observées suggèrent que les types de baccalauréat influencent les performances académiques des élèves."
      ],
      "metadata": {
        "id": "HR-RkA8zzO98"
      }
    },
    {
      "cell_type": "markdown",
      "source": [
        "\n",
        "\n",
        "---\n",
        "\n"
      ],
      "metadata": {
        "id": "gGe2PiuWuvIt"
      }
    },
    {
      "cell_type": "markdown",
      "source": [
        "##Evolution des moyennes entre le s3 et le s4"
      ],
      "metadata": {
        "id": "IzMNw0t9BQDH"
      }
    },
    {
      "cell_type": "markdown",
      "source": [
        "**Description**\n",
        "\n",
        "L'objectif ici est de voir comment évolue les notes du semestre 3 au semestre 4."
      ],
      "metadata": {
        "id": "ffRiKZMVz3Zd"
      }
    },
    {
      "cell_type": "code",
      "source": [
        "\n",
        "# Calculer les moyennes des notes du S3 et du S4\n",
        "moyenne_note_s3 = df['note_s3'].mean()\n",
        "moyenne_note_s4 = df['note_s4'].mean()\n",
        "\n",
        "# Créer un DataFrame pour les moyennes\n",
        "moyennes_notes = pd.DataFrame({'S3': moyenne_note_s3, 'S4': moyenne_note_s4}, index=['Moyenne'])\n",
        "\n",
        "# Afficher les résultats sous forme de graphique à barres\n",
        "ax = moyennes_notes.plot(kind='bar', figsize=(10, 6), title='Comparaison des moyennes des notes du S3 et du S4', xlabel='Semestre', ylabel='Moyenne des notes', width=0.2)\n"
      ],
      "metadata": {
        "id": "YzdB33xaz6JR"
      },
      "execution_count": null,
      "outputs": []
    },
    {
      "cell_type": "markdown",
      "source": [
        "**Conclusion :**\n",
        "\n",
        "L'augmentation de la moyenne des étudiants de 12.5 au semestre 3 à 13.6 au semestre 4 est un indicateur positif de l'amélioration des performances académiques. Cette tendance pourrait être due à une meilleure adaptation des étudiants au programme, à des méthodes d'étude améliorées, ou à un contenu de cours mieux compris. Comprendre ces facteurs peut aider à mettre en place des stratégies pour soutenir les étudiants de manière plus efficace dès le début de l'année académique.\n",
        "\n",
        "\n",
        "\n",
        "\n",
        "\n",
        "\n"
      ],
      "metadata": {
        "id": "OIjCehfH3b1w"
      }
    },
    {
      "cell_type": "markdown",
      "source": [
        "\n",
        "\n",
        "---\n",
        "\n"
      ],
      "metadata": {
        "id": "ypoAr6Fm3mFX"
      }
    },
    {
      "cell_type": "markdown",
      "source": [
        "##Absences et notes"
      ],
      "metadata": {
        "id": "Y44_sHI2K-wh"
      }
    },
    {
      "cell_type": "code",
      "source": [
        "# Créer un graphique de dispersion\n",
        "plt.figure(figsize=(10, 6))\n",
        "plt.scatter(df['nb_anj_s4'], df['moyenne'], color='blue', alpha=0.5)\n",
        "plt.title('Nombre d\\'absences au semestre 4 par rapport à la moyenne')\n",
        "plt.xlabel('Nombre d\\'absences au semestre 4')\n",
        "plt.ylabel('Moyenne')\n",
        "plt.grid(True)\n",
        "plt.tight_layout()\n",
        "plt.show()"
      ],
      "metadata": {
        "id": "9tjOfQqZQBJs"
      },
      "execution_count": null,
      "outputs": []
    },
    {
      "cell_type": "markdown",
      "source": [
        "**Conclusion**\n",
        "\n",
        "On observe sur ce graphique que durant le semestre 4, en moyenne un élève cotissant un plus grand nombre d'absences, avait une moins bonne moyenne."
      ],
      "metadata": {
        "id": "hVmabzgOQj--"
      }
    },
    {
      "cell_type": "markdown",
      "source": [
        "\n",
        "\n",
        "---\n",
        "\n"
      ],
      "metadata": {
        "id": "wwEshXyTLDeR"
      }
    },
    {
      "cell_type": "markdown",
      "source": [
        "#Tableau des données analysées"
      ],
      "metadata": {
        "id": "11GQtCBBBXuI"
      }
    },
    {
      "cell_type": "code",
      "source": [
        "donnee_univariée = {\n",
        "    'Variable': ['Nominale', 'Ordinale', 'Discrète', 'continue'],\n",
        "    'Donnée': [\"Domaine de stage\", \"Appréciation\",\"Etudiants en stage chaque annéee\",\"Temps stage\"]\n",
        "}\n",
        "\n",
        "donnee_bivariée = {\n",
        "    'Variable': ['2 qualitatives', '1 de chaque', '2 quantitatives'],\n",
        "    'Donnée': [\"Moyenne en fonction du diplôme\", \"Evolution s3,s4\", \"Absence et note\"]\n",
        "}\n",
        "\n",
        "tableau_univariée = pd.DataFrame(donnee_univariée)\n",
        "tableau_bivariée = pd.DataFrame(donnee_bivariée)\n",
        "\n",
        "print(tableau_univariée)\n",
        "print(\"\\n\\n\",tableau_bivariée)\n"
      ],
      "metadata": {
        "id": "C2NDafF14NhI"
      },
      "execution_count": null,
      "outputs": []
    },
    {
      "cell_type": "markdown",
      "source": [
        "\n",
        "\n",
        "---\n",
        "\n"
      ],
      "metadata": {
        "id": "YYs9TMXI8y9V"
      }
    },
    {
      "cell_type": "markdown",
      "source": [
        "#Conclusion\n",
        "\n",
        "En conclusion, l'analyse approfondie des données sur les stages de deuxième année de DUT entre 2017 et 2022 permet de comprendre certaines corrélations entre les notes et les étudiants.\n",
        "\n",
        "En examinant les données sur le nombre d'étudiants par domaine de stage, les appréciations, les évolutions annuelles, la durée des stages, les moyennes et leur relation avec le diplôme, ainsi que l'impact des absences sur les performances, nous avons pu dégager des informations riches et variées.\n",
        "\n",
        "Ces résultats offrent des pistes de réflexion pour améliorer l'efficacité des programmes de stages, renforcer l'insertion professionnelle des étudiants, et favoriser un partenariat fructueux entre les établissements d'enseignement et les entreprises.\n",
        "\n",
        "En continuant à exploiter ces données de manière stratégique, il est possible de prendre des décisions éclairées qui contribueront à former une main-d'œuvre qualifiée et adaptable aux défis du marché du travail contemporain."
      ],
      "metadata": {
        "id": "iXR80cYw7VgU"
      }
    }
  ]
}